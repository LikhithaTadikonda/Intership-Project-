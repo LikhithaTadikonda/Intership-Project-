{
 "cells": [
  {
   "cell_type": "code",
   "execution_count": 1,
   "id": "4e8c72d0",
   "metadata": {},
   "outputs": [],
   "source": [
    "import numpy as np\n",
    "import matplotlib.pyplot as plt\n",
    "import pandas as pd\n",
    "from sklearn.tree import DecisionTreeClassifier        # Import Decision Tree Classifier\n",
    "from sklearn.model_selection import train_test_split   # Import train_test_split function\n",
    "from sklearn import metrics                      #Import scikit-learn metrics module for accuracy calculation"
   ]
  },
  {
   "cell_type": "code",
   "execution_count": 2,
   "id": "7e4b959e",
   "metadata": {},
   "outputs": [
    {
     "data": {
      "text/html": [
       "<div>\n",
       "<style scoped>\n",
       "    .dataframe tbody tr th:only-of-type {\n",
       "        vertical-align: middle;\n",
       "    }\n",
       "\n",
       "    .dataframe tbody tr th {\n",
       "        vertical-align: top;\n",
       "    }\n",
       "\n",
       "    .dataframe thead th {\n",
       "        text-align: right;\n",
       "    }\n",
       "</style>\n",
       "<table border=\"1\" class=\"dataframe\">\n",
       "  <thead>\n",
       "    <tr style=\"text-align: right;\">\n",
       "      <th></th>\n",
       "      <th>Your Roll Number</th>\n",
       "      <th>Your Section</th>\n",
       "      <th>CLA</th>\n",
       "      <th>Mid</th>\n",
       "      <th>Lab Internal</th>\n",
       "      <th>Therory total</th>\n",
       "      <th>Attendance</th>\n",
       "      <th>Performance</th>\n",
       "    </tr>\n",
       "  </thead>\n",
       "  <tbody>\n",
       "    <tr>\n",
       "      <th>0</th>\n",
       "      <td>19110010001</td>\n",
       "      <td>CSE A</td>\n",
       "      <td>7</td>\n",
       "      <td>12</td>\n",
       "      <td>42</td>\n",
       "      <td>38</td>\n",
       "      <td>90 to 95%</td>\n",
       "      <td>Good</td>\n",
       "    </tr>\n",
       "    <tr>\n",
       "      <th>1</th>\n",
       "      <td>19110010002</td>\n",
       "      <td>CSE A</td>\n",
       "      <td>6</td>\n",
       "      <td>10</td>\n",
       "      <td>35</td>\n",
       "      <td>32</td>\n",
       "      <td>96 to 100%</td>\n",
       "      <td>Average</td>\n",
       "    </tr>\n",
       "    <tr>\n",
       "      <th>2</th>\n",
       "      <td>19110010003</td>\n",
       "      <td>CSE A</td>\n",
       "      <td>6</td>\n",
       "      <td>13</td>\n",
       "      <td>38</td>\n",
       "      <td>38</td>\n",
       "      <td>90 to 95%</td>\n",
       "      <td>Good</td>\n",
       "    </tr>\n",
       "    <tr>\n",
       "      <th>3</th>\n",
       "      <td>19110010004</td>\n",
       "      <td>CSE A</td>\n",
       "      <td>7</td>\n",
       "      <td>11</td>\n",
       "      <td>36</td>\n",
       "      <td>36</td>\n",
       "      <td>96 to 100%</td>\n",
       "      <td>Good</td>\n",
       "    </tr>\n",
       "    <tr>\n",
       "      <th>4</th>\n",
       "      <td>19110010005</td>\n",
       "      <td>CSE D</td>\n",
       "      <td>6</td>\n",
       "      <td>9</td>\n",
       "      <td>49</td>\n",
       "      <td>30</td>\n",
       "      <td>96 to 100%</td>\n",
       "      <td>Poor</td>\n",
       "    </tr>\n",
       "  </tbody>\n",
       "</table>\n",
       "</div>"
      ],
      "text/plain": [
       "   Your Roll Number Your Section  CLA  Mid  Lab Internal  Therory total  \\\n",
       "0       19110010001        CSE A    7   12            42             38   \n",
       "1       19110010002        CSE A    6   10            35             32   \n",
       "2       19110010003        CSE A    6   13            38             38   \n",
       "3       19110010004        CSE A    7   11            36             36   \n",
       "4       19110010005        CSE D    6    9            49             30   \n",
       "\n",
       "   Attendance Performance  \n",
       "0   90 to 95%        Good  \n",
       "1  96 to 100%     Average  \n",
       "2   90 to 95%        Good  \n",
       "3  96 to 100%        Good  \n",
       "4  96 to 100%        Poor  "
      ]
     },
     "execution_count": 2,
     "metadata": {},
     "output_type": "execute_result"
    }
   ],
   "source": [
    "df = pd.read_csv(\"data.csv\")\n",
    "df.head()"
   ]
  },
  {
   "cell_type": "code",
   "execution_count": 3,
   "id": "42d47faa",
   "metadata": {},
   "outputs": [],
   "source": [
    "#split dataset in features and target variable\n",
    "feature_cols = ['CLA', 'Mid', 'Lab Internal', 'Therory total']\n",
    "X = df[feature_cols] # Features\n",
    "y = df.Performance # Target variable"
   ]
  },
  {
   "cell_type": "code",
   "execution_count": 4,
   "id": "4c03c2ff",
   "metadata": {},
   "outputs": [],
   "source": [
    "# Split dataset into training set and test set\n",
    "X_train, X_test, y_train, y_test = train_test_split(X, y, test_size=0.2, random_state=1)\n",
    "# 80% training and 20% test"
   ]
  },
  {
   "cell_type": "code",
   "execution_count": 5,
   "id": "9d469d98",
   "metadata": {},
   "outputs": [],
   "source": [
    "from sklearn.tree import DecisionTreeClassifier\n",
    "dcls = DecisionTreeClassifier(max_depth= 5)"
   ]
  },
  {
   "cell_type": "code",
   "execution_count": 6,
   "id": "b6e9c08e",
   "metadata": {},
   "outputs": [
    {
     "data": {
      "text/plain": [
       "DecisionTreeClassifier(max_depth=5)"
      ]
     },
     "execution_count": 6,
     "metadata": {},
     "output_type": "execute_result"
    }
   ],
   "source": [
    "dcls.fit(X_train,y_train)"
   ]
  },
  {
   "cell_type": "code",
   "execution_count": 7,
   "id": "3b7bd70c",
   "metadata": {},
   "outputs": [
    {
     "data": {
      "text/plain": [
       "array(['Good', 'Average', 'Very Good', 'Average', 'Excellent', 'Poor',\n",
       "       'Good', 'Poor', 'Good', 'Very Good', 'Good', 'Good', 'Excellent',\n",
       "       'Average', 'Average', 'Good', 'Very Good', 'Very Good', 'Average',\n",
       "       'Good', 'Average', 'Good', 'Good', 'Good', 'Poor', 'Good',\n",
       "       'Average', 'Very Good', 'Good', 'Very Good', 'Good', 'Good',\n",
       "       'Poor', 'Excellent', 'Good', 'Good', 'Very Good', 'Good',\n",
       "       'Very Good', 'Good'], dtype=object)"
      ]
     },
     "execution_count": 7,
     "metadata": {},
     "output_type": "execute_result"
    }
   ],
   "source": [
    "y_pred = dcls.predict(X_test)\n",
    "y_pred"
   ]
  },
  {
   "cell_type": "code",
   "execution_count": 8,
   "id": "75ecfb99",
   "metadata": {},
   "outputs": [
    {
     "data": {
      "text/plain": [
       "100.0"
      ]
     },
     "execution_count": 8,
     "metadata": {},
     "output_type": "execute_result"
    }
   ],
   "source": [
    "from sklearn.metrics import accuracy_score, confusion_matrix,classification_report\n",
    "accuracy_score(y_test,y_pred)* 100"
   ]
  },
  {
   "cell_type": "code",
   "execution_count": 9,
   "id": "7c1b986a",
   "metadata": {},
   "outputs": [
    {
     "data": {
      "text/plain": [
       "array([[ 7,  0,  0,  0,  0],\n",
       "       [ 0,  3,  0,  0,  0],\n",
       "       [ 0,  0, 18,  0,  0],\n",
       "       [ 0,  0,  0,  4,  0],\n",
       "       [ 0,  0,  0,  0,  8]], dtype=int64)"
      ]
     },
     "execution_count": 9,
     "metadata": {},
     "output_type": "execute_result"
    }
   ],
   "source": [
    "confusion_matrix(y_test,y_pred)"
   ]
  },
  {
   "cell_type": "code",
   "execution_count": 12,
   "id": "8e4bdbea",
   "metadata": {},
   "outputs": [
    {
     "name": "stdout",
     "output_type": "stream",
     "text": [
      "              precision    recall  f1-score   support\n",
      "\n",
      "     Average       1.00      1.00      1.00         7\n",
      "   Excellent       1.00      1.00      1.00         3\n",
      "        Good       1.00      1.00      1.00        18\n",
      "        Poor       1.00      1.00      1.00         4\n",
      "   Very Good       1.00      1.00      1.00         8\n",
      "\n",
      "    accuracy                           1.00        40\n",
      "   macro avg       1.00      1.00      1.00        40\n",
      "weighted avg       1.00      1.00      1.00        40\n",
      "\n"
     ]
    }
   ],
   "source": [
    "print(classification_report(y_test,y_pred))"
   ]
  },
  {
   "cell_type": "code",
   "execution_count": 10,
   "id": "578b92d4",
   "metadata": {},
   "outputs": [
    {
     "data": {
      "text/plain": [
       "(40,)"
      ]
     },
     "execution_count": 10,
     "metadata": {},
     "output_type": "execute_result"
    }
   ],
   "source": [
    "y_test.shape"
   ]
  },
  {
   "cell_type": "code",
   "execution_count": 11,
   "id": "12d87aad",
   "metadata": {},
   "outputs": [
    {
     "data": {
      "image/png": "[encoded data removed]",
      "text/plain": [
       "<Figure size 720x864 with 1 Axes>"
      ]
     },
     "metadata": {
      "needs_background": "light"
     },
     "output_type": "display_data"
    }
   ],
   "source": [
    "from sklearn import tree\n",
    "import matplotlib.pyplot as plt\n",
    "plt.figure(figsize = (10,12))\n",
    "tree.plot_tree(dcls)\n",
    "plt.show()"
   ]
  },
  {
   "cell_type": "code",
   "execution_count": null,
   "id": "d5babcf6",
   "metadata": {},
   "outputs": [],
   "source": []
  }
 ],
 "metadata": {
  "kernelspec": {
   "display_name": "Python 3",
   "language": "python",
   "name": "python3"
  },
  "language_info": {
   "codemirror_mode": {
    "name": "ipython",
    "version": 3
   },
   "file_extension": ".py",
   "mimetype": "text/x-python",
   "name": "python",
   "nbconvert_exporter": "python",
   "pygments_lexer": "ipython3",
   "version": "3.8.8"
  }
 },
 "nbformat": 4,
 "nbformat_minor": 5
}

{
 "cells": [
  {
   "cell_type": "code",
   "execution_count": 8,
   "id": "8f2935e4",
   "metadata": {},
   "outputs": [],
   "source": [
    "# Load libraries\n",
    "import pandas as pd\n",
    "from sklearn.ensemble import AdaBoostClassifier\n",
    "from sklearn import datasets\n",
    "\n",
    "from sklearn.model_selection import train_test_split     # Import train_test_split function\n",
    "from sklearn import metrics                     #Import scikit-learn metrics module for accuracy calculation"
   ]
  },
  {
   "cell_type": "code",
   "execution_count": 2,
   "id": "89e0b484",
   "metadata": {},
   "outputs": [
    {
     "data": {
      "text/html": [
       "<div>\n",
       "<style scoped>\n",
       "    .dataframe tbody tr th:only-of-type {\n",
       "        vertical-align: middle;\n",
       "    }\n",
       "\n",
       "    .dataframe tbody tr th {\n",
       "        vertical-align: top;\n",
       "    }\n",
       "\n",
       "    .dataframe thead th {\n",
       "        text-align: right;\n",
       "    }\n",
       "</style>\n",
       "<table border=\"1\" class=\"dataframe\">\n",
       "  <thead>\n",
       "    <tr style=\"text-align: right;\">\n",
       "      <th></th>\n",
       "      <th>Your Roll Number</th>\n",
       "      <th>Your Section</th>\n",
       "      <th>CLA</th>\n",
       "      <th>Mid</th>\n",
       "      <th>Lab Internal</th>\n",
       "      <th>Therory total</th>\n",
       "      <th>Attendance</th>\n",
       "      <th>Performance</th>\n",
       "    </tr>\n",
       "  </thead>\n",
       "  <tbody>\n",
       "    <tr>\n",
       "      <th>0</th>\n",
       "      <td>19110010001</td>\n",
       "      <td>CSE A</td>\n",
       "      <td>7</td>\n",
       "      <td>12</td>\n",
       "      <td>42</td>\n",
       "      <td>38</td>\n",
       "      <td>90 to 95%</td>\n",
       "      <td>Good</td>\n",
       "    </tr>\n",
       "    <tr>\n",
       "      <th>1</th>\n",
       "      <td>19110010002</td>\n",
       "      <td>CSE A</td>\n",
       "      <td>6</td>\n",
       "      <td>10</td>\n",
       "      <td>35</td>\n",
       "      <td>32</td>\n",
       "      <td>96 to 100%</td>\n",
       "      <td>Average</td>\n",
       "    </tr>\n",
       "    <tr>\n",
       "      <th>2</th>\n",
       "      <td>19110010003</td>\n",
       "      <td>CSE A</td>\n",
       "      <td>6</td>\n",
       "      <td>13</td>\n",
       "      <td>38</td>\n",
       "      <td>38</td>\n",
       "      <td>90 to 95%</td>\n",
       "      <td>Good</td>\n",
       "    </tr>\n",
       "    <tr>\n",
       "      <th>3</th>\n",
       "      <td>19110010004</td>\n",
       "      <td>CSE A</td>\n",
       "      <td>7</td>\n",
       "      <td>11</td>\n",
       "      <td>36</td>\n",
       "      <td>36</td>\n",
       "      <td>96 to 100%</td>\n",
       "      <td>Good</td>\n",
       "    </tr>\n",
       "    <tr>\n",
       "      <th>4</th>\n",
       "      <td>19110010005</td>\n",
       "      <td>CSE D</td>\n",
       "      <td>6</td>\n",
       "      <td>9</td>\n",
       "      <td>49</td>\n",
       "      <td>30</td>\n",
       "      <td>96 to 100%</td>\n",
       "      <td>Poor</td>\n",
       "    </tr>\n",
       "  </tbody>\n",
       "</table>\n",
       "</div>"
      ],
      "text/plain": [
       "   Your Roll Number Your Section  CLA  Mid  Lab Internal  Therory total  \\\n",
       "0       19110010001        CSE A    7   12            42             38   \n",
       "1       19110010002        CSE A    6   10            35             32   \n",
       "2       19110010003        CSE A    6   13            38             38   \n",
       "3       19110010004        CSE A    7   11            36             36   \n",
       "4       19110010005        CSE D    6    9            49             30   \n",
       "\n",
       "   Attendance Performance  \n",
       "0   90 to 95%        Good  \n",
       "1  96 to 100%     Average  \n",
       "2   90 to 95%        Good  \n",
       "3  96 to 100%        Good  \n",
       "4  96 to 100%        Poor  "
      ]
     },
     "execution_count": 2,
     "metadata": {},
     "output_type": "execute_result"
    }
   ],
   "source": [
    "df = pd.read_csv(\"data.csv\")\n",
    "df.head()"
   ]
  },
  {
   "cell_type": "code",
   "execution_count": 3,
   "id": "17101ec2",
   "metadata": {},
   "outputs": [],
   "source": [
    "X = df.iloc[:,2 :-2].values\n",
    "y = df.iloc[:, 7].values\n",
    "#The X variable contains the first four columns of the dataset (i.e. attributes)\n",
    "# while y contains the labels."
   ]
  },
  {
   "cell_type": "code",
   "execution_count": 4,
   "id": "d3b2a41d",
   "metadata": {},
   "outputs": [],
   "source": [
    "# Split dataset into training set and test set\n",
    "X_train, X_test, y_train, y_test = train_test_split(X, y, test_size=0.2,random_state=1) \n",
    "# 80% training and 20% test"
   ]
  },
  {
   "cell_type": "markdown",
   "id": "da37c2df",
   "metadata": {},
   "source": [
    "Building the AdaBoost Model"
   ]
  },
  {
   "cell_type": "code",
   "execution_count": 5,
   "id": "efc6f6e0",
   "metadata": {},
   "outputs": [],
   "source": [
    "# Create adaboost classifer object\n",
    "abc = AdaBoostClassifier(n_estimators=50,\n",
    "                         learning_rate=1)\n",
    "# Train Adaboost Classifer\n",
    "model = abc.fit(X_train, y_train)\n",
    "\n",
    "#Predict the response for test dataset\n",
    "y_pred = model.predict(X_test)"
   ]
  },
  {
   "cell_type": "markdown",
   "id": "2f5d2509",
   "metadata": {},
   "source": [
    "**Evaluate Model**\n",
    "* Estimating,how accurately the classifier or model can predict.\n",
    "* Accuracy can be computed by comparing actual test set values and predicted values."
   ]
  },
  {
   "cell_type": "code",
   "execution_count": 10,
   "id": "fbcadc57",
   "metadata": {},
   "outputs": [
    {
     "name": "stdout",
     "output_type": "stream",
     "text": [
      "Confusion Matrix :\n",
      " [[ 7  0  0  0  0]\n",
      " [ 0  3  0  0  0]\n",
      " [ 0  0 18  0  0]\n",
      " [ 0  0  0  4  0]\n",
      " [ 0  0  0  0  8]]\n"
     ]
    }
   ],
   "source": [
    "from sklearn.metrics import confusion_matrix,accuracy_score,classification_report\n",
    "cm = confusion_matrix(y_test, y_pred)\n",
    "print(\"Confusion Matrix :\\n\", cm)"
   ]
  },
  {
   "cell_type": "code",
   "execution_count": 11,
   "id": "20212590",
   "metadata": {},
   "outputs": [
    {
     "name": "stdout",
     "output_type": "stream",
     "text": [
      "              precision    recall  f1-score   support\n",
      "\n",
      "     Average       1.00      1.00      1.00         7\n",
      "   Excellent       1.00      1.00      1.00         3\n",
      "        Good       1.00      1.00      1.00        18\n",
      "        Poor       1.00      1.00      1.00         4\n",
      "   Very Good       1.00      1.00      1.00         8\n",
      "\n",
      "    accuracy                           1.00        40\n",
      "   macro avg       1.00      1.00      1.00        40\n",
      "weighted avg       1.00      1.00      1.00        40\n",
      "\n"
     ]
    }
   ],
   "source": [
    "print(classification_report(y_test,y_pred))"
   ]
  },
  {
   "cell_type": "code",
   "execution_count": 6,
   "id": "2ba3b5a6",
   "metadata": {},
   "outputs": [
    {
     "name": "stdout",
     "output_type": "stream",
     "text": [
      "Accuracy: 82.5\n"
     ]
    }
   ],
   "source": [
    "# Model Accuracy, how often is the classifier correct?\n",
    "print(\"Accuracy:\",metrics.accuracy_score(y_test, y_pred)*100)"
   ]
  },
  {
   "cell_type": "markdown",
   "id": "09b8697c",
   "metadata": {},
   "source": [
    "Using Different Base Learners"
   ]
  },
  {
   "cell_type": "code",
   "execution_count": 7,
   "id": "9c2a15c1",
   "metadata": {},
   "outputs": [
    {
     "name": "stdout",
     "output_type": "stream",
     "text": [
      "Accuracy: 100.0\n"
     ]
    }
   ],
   "source": [
    "# Load libraries\n",
    "from sklearn.ensemble import AdaBoostClassifier\n",
    "\n",
    "# Import Support Vector Classifier\n",
    "from sklearn.svm import SVC\n",
    "#Import scikit-learn metrics module for accuracy calculation\n",
    "from sklearn import metrics\n",
    "svc=SVC(probability=True, kernel='linear')\n",
    "\n",
    "# Create adaboost classifer object\n",
    "abc =AdaBoostClassifier(n_estimators=50, base_estimator=svc,learning_rate=0.2)\n",
    "\n",
    "# Train Adaboost Classifer\n",
    "model = abc.fit(X_train, y_train)\n",
    "\n",
    "#Predict the response for test dataset\n",
    "y_pred = model.predict(X_test)\n",
    "\n",
    "# Model Accuracy, how often is the classifier correct?\n",
    "print(\"Accuracy:\",metrics.accuracy_score(y_test, y_pred)*100)"
   ]
  },
  {
   "cell_type": "markdown",
   "id": "1d9de8f8",
   "metadata": {},
   "source": [
    "* Well, you got a classification rate of 100%, considered as good accuracy.\n",
    "* => In this case, SVC Base Estimator is getting better accuracy then Decision tree Base Estimator."
   ]
  },
  {
   "cell_type": "markdown",
   "id": "4d625fdf",
   "metadata": {},
   "source": [
    "Adaboost iteratively corrects the mistakes of the weak classifier and improves accuracy by combining weak learners."
   ]
  },
  {
   "cell_type": "code",
   "execution_count": null,
   "id": "ab0d1985",
   "metadata": {},
   "outputs": [],
   "source": []
  }
 ],
 "metadata": {
  "kernelspec": {
   "display_name": "Python 3",
   "language": "python",
   "name": "python3"
  },
  "language_info": {
   "codemirror_mode": {
    "name": "ipython",
    "version": 3
   },
   "file_extension": ".py",
   "mimetype": "text/x-python",
   "name": "python",
   "nbconvert_exporter": "python",
   "pygments_lexer": "ipython3",
   "version": "3.8.8"
  }
 },
 "nbformat": 4,
 "nbformat_minor": 5
}
